{
 "cells": [
  {
   "cell_type": "markdown",
   "metadata": {},
   "source": [
    "# Kilosort2 vs. pykilosort: Comparison Report\n",
    "\n",
    "This report simulates electrophysiological data and compares the outputs of spike sorters Kilosort2 and pykilosort run on this data. All configuration for the sortings used should be changed either within the report (or ideally) through environment variables. Don't rely on configuration from external files as they may become out of sync between MATLAB and python."
   ]
  },
  {
   "cell_type": "code",
   "execution_count": null,
   "metadata": {},
   "outputs": [],
   "source": [
    "import enum\n",
    "import os\n",
    "import numpy as np\n",
    "import matplotlib.pyplot as plt"
   ]
  },
  {
   "cell_type": "code",
   "execution_count": null,
   "metadata": {},
   "outputs": [],
   "source": [
    "import logging\n",
    "logger = logging.getLogger()\n",
    "logger.setLevel(logging.INFO)"
   ]
  },
  {
   "cell_type": "markdown",
   "metadata": {},
   "source": [
    "## Configuration"
   ]
  },
  {
   "cell_type": "code",
   "execution_count": null,
   "metadata": {},
   "outputs": [],
   "source": [
    "PYKILOSORT_DIR = os.environ.get('PYKILOSORT_DIR', '.')\n",
    "KILOSORT2_DIR = os.environ.get('KILOSORT2_DIR', f'{PYKILOSORT_DIR}/../Kilosort2')\n",
    "\n",
    "BASE_PATH = os.environ.get('BASE_PATH', f'{PYKILOSORT_DIR}/examples/eMouse/data')\n",
    "PYKILOSORT_SORTING_RESULTS_DIR = f'{BASE_PATH}/python_output/'\n",
    "MATLAB_SORTING_RESULTS_DIR = f'{BASE_PATH}/matlab_output/'\n",
    "\n",
    "[os.makedirs(d,exist_ok=True) for d in (PYKILOSORT_SORTING_RESULTS_DIR,MATLAB_SORTING_RESULTS_DIR)]\n",
    "\n",
    "class Operations(enum.Enum):\n",
    "    simulation = 'SIMULATION'\n",
    "    matlab_sorting = 'MATLAB_SORTING'\n",
    "    pykilosort_sorting = 'PYKILOSORT_SORTING'\n",
    "    \n",
    "FORCE_RUN = {Operations.simulation, Operations.matlab_sorting, Operations.pykilosort_sorting}\n",
    "FORCE_RUN = {Operations.pykilosort_sorting}\n",
    "\n",
    "simulation_opts = {\n",
    "    'chanMapName': 'chanMap_3B_64sites.mat',\n",
    "    'NchanTOT': 64.0\n",
    "}\n",
    "\n",
    "opts = {\n",
    "    'chanMap': f'{BASE_PATH}/{simulation_opts[\"chanMapName\"]}',\n",
    "    'fs': 30000.,\n",
    "    'fshigh': 150.,\n",
    "    'minfr_goodchannels': 0.1000,\n",
    "    'Th': [6.0, 2.0],\n",
    "    'lam': 10.,\n",
    "    'AUCsplit': 0.9000,\n",
    "    'minFR': 0.0200,\n",
    "    'momentum': [20., 400],\n",
    "    'sigmaMask': 30.,\n",
    "    'ThPre': 8.,\n",
    "    'reorder': 1,\n",
    "    'nskip': 25.,\n",
    "    'spkTh': -6.,\n",
    "    'GPU': 1,\n",
    "    'nfilt_factor': 4.,\n",
    "    'ntbuff': 64.0,\n",
    "    'NT': 65600.,\n",
    "    'whiteningRange': 32.,\n",
    "    'nSkipCov': 25.0,\n",
    "    'scaleproc': 200.,\n",
    "    'nPCs': 3.,\n",
    "    'useRAM': 0,\n",
    "    'sorting': 2,\n",
    "    'NchanTOT': float(simulation_opts['NchanTOT']),\n",
    "    'trange': [0., float('inf')],\n",
    "    'fproc': '/tmp/temp_wh.dat',\n",
    "    'rootZ': MATLAB_SORTING_RESULTS_DIR,\n",
    "    'fbinary': f'{BASE_PATH}/sim_binary.imec.ap.bin',\n",
    "    'fig': False\n",
    "}  "
   ]
  },
  {
   "cell_type": "markdown",
   "metadata": {},
   "source": [
    "## Setup MATLAB<sup>TM</sup> engine"
   ]
  },
  {
   "cell_type": "code",
   "execution_count": null,
   "metadata": {},
   "outputs": [],
   "source": [
    "import matlab.engine\n",
    "\n",
    "# If true we start a new matlab engine, if false we try to connect to an existing open matlab workspace.\n",
    "# The latter is helpful for debugging.\n",
    "new_session = True \n",
    "if new_session:\n",
    "    eng = matlab.engine.start_matlab()\n",
    "else:\n",
    "    eng = matlab.engine.connect_matlab()\n",
    "    \n",
    "eng.addpath(eng.genpath(KILOSORT2_DIR));\n",
    "eng.addpath(eng.genpath(f'{KILOSORT2_DIR}/../npy-matlab'));"
   ]
  },
  {
   "cell_type": "markdown",
   "metadata": {},
   "source": [
    "## Generate simulated data using MATLAB<sup>TM</sup> "
   ]
  },
  {
   "cell_type": "code",
   "execution_count": null,
   "metadata": {},
   "outputs": [],
   "source": [
    "if Operations.simulation in FORCE_RUN:\n",
    "    useGPU = True\n",
    "    useParPool = False\n",
    "\n",
    "    opts[\"chanMap\"] = eng.make_eMouseChannelMap_3B_short(BASE_PATH, simulation_opts[\"NchanTOT\"])\n",
    "    opts[\"chanMap\"] = f'{BASE_PATH}/{opts[\"chanMap\"]}'\n",
    "    eng.make_eMouseData_drift(BASE_PATH, KILOSORT2_DIR, simulation_opts[\"chanMapName\"], useGPU, useParPool, nargout=0)\n",
    "else:\n",
    "    assert os.path.isfile(opts[\"chanMap\"])"
   ]
  },
  {
   "cell_type": "markdown",
   "metadata": {},
   "source": [
    "Write out the channel data to numpy files too "
   ]
  },
  {
   "cell_type": "code",
   "execution_count": null,
   "metadata": {},
   "outputs": [],
   "source": [
    "if Operations.simulation in FORCE_RUN:\n",
    "    x = eng.load(opts['chanMap'])\n",
    "    eng.writeNPY(x['chanMap'], f'{BASE_PATH}/chanMap.npy', nargout=0)\n",
    "    eng.writeNPY(x['xcoords'], f'{BASE_PATH}/xc.npy', nargout=0)\n",
    "    eng.writeNPY(x['ycoords'], f'{BASE_PATH}/yc.npy', nargout=0)"
   ]
  },
  {
   "cell_type": "markdown",
   "metadata": {},
   "source": [
    "## Sort simulated data using Kilosort2 via MATLAB<sup>TM</sup> engine"
   ]
  },
  {
   "cell_type": "code",
   "execution_count": null,
   "metadata": {},
   "outputs": [],
   "source": [
    "if Operations.matlab_sorting in FORCE_RUN:\n",
    "    # make sure to convert list to matlab arrays\n",
    "    ops = eng.struct({k: (matlab.double(v) if isinstance(v, list) else v) for k,v in opts.items()})\n",
    "    rootZ = eng.char(opts['rootZ'])\n",
    "    if not new_session: \n",
    "        eng.workspace['ops'] = ops\n",
    "        eng.workspace['rootZ'] = rootZ\n",
    "\n",
    "    rez = eng.function_kilosort(rootZ, ops)\n",
    "print(f\"Files generated: {os.listdir(MATLAB_SORTING_RESULTS_DIR)}\")"
   ]
  },
  {
   "cell_type": "markdown",
   "metadata": {},
   "source": [
    "## Sort simulated data using pykilosort"
   ]
  },
  {
   "cell_type": "code",
   "execution_count": null,
   "metadata": {},
   "outputs": [],
   "source": [
    "import pykilosort\n",
    "from pathlib import Path\n",
    "from importlib import reload\n",
    "from pykilosort import main\n",
    "reload(main)\n",
    "\n",
    "pykilosort.add_default_handler()"
   ]
  },
  {
   "cell_type": "code",
   "execution_count": null,
   "metadata": {},
   "outputs": [],
   "source": [
    "probe = pykilosort.Bunch()\n",
    "probe.NchanTOT = int(opts['NchanTOT'])\n",
    "probe.chanMap = np.load(BASE_PATH+'/chanMap.npy').flatten().astype(int)\n",
    "probe.kcoords = np.ones(int(opts['NchanTOT']))\n",
    "probe.xc = np.load(BASE_PATH+'/xc.npy').flatten()\n",
    "probe.yc = np.load(BASE_PATH+'/yc.npy').flatten()\n",
    "\n",
    "rez = main.run(\n",
    "    dat_path = opts['fbinary'],\n",
    "    dir_path = Path(PYKILOSORT_SORTING_RESULTS_DIR),\n",
    "    output_dir = Path(PYKILOSORT_SORTING_RESULTS_DIR),\n",
    "    params = None,\n",
    "    probe=probe,\n",
    "    dtype = np.int16,\n",
    "    n_channels = int(opts['NchanTOT']),\n",
    "    sample_rate = opts['fs'],\n",
    "    clear_context = False #Operations.pykilosort_sorting in FORCE_RUN\n",
    ")\n",
    "print(f\"Files generated: {os.listdir(PYKILOSORT_SORTING_RESULTS_DIR)}\")"
   ]
  },
  {
   "cell_type": "markdown",
   "metadata": {},
   "source": [
    "---"
   ]
  },
  {
   "cell_type": "markdown",
   "metadata": {},
   "source": [
    "# Intermediate results comparison"
   ]
  },
  {
   "cell_type": "code",
   "execution_count": null,
   "metadata": {},
   "outputs": [],
   "source": [
    "import pydantic\n",
    "\n",
    "class SortingResults(pydantic.BaseModel):\n",
    "    templates: np.ndarray\n",
    "    spike_times: np.ndarray\n",
    "    spike_clusters: np.ndarray\n",
    "    channel_positions: np.ndarray\n",
    "        \n",
    "    class Config:\n",
    "        arbitrary_types_allowed = True\n",
    "\n",
    "def get_results(dirname):\n",
    "    return SortingResults(\n",
    "        templates = np.load(f\"{dirname}templates.npy\"),\n",
    "        spike_times = np.load(f\"{dirname}/spike_times.npy\"),\n",
    "        spike_clusters = np.load(f\"{dirname}/spike_clusters.npy\"),\n",
    "        channel_positions = np.load(f\"{dirname}/channel_positions.npy\"),\n",
    "    )\n",
    "\n",
    "results = {\n",
    "    'matlab': get_results(MATLAB_SORTING_RESULTS_DIR),\n",
    "    'python': get_results(PYKILOSORT_SORTING_RESULTS_DIR)\n",
    "}\n",
    "\n",
    "import h5py\n",
    "\n",
    "def h5_to_dict(group):\n",
    "    d = {}\n",
    "    for k,v in group.items():\n",
    "        if isinstance(v, h5py.Group):\n",
    "            d[k] = h5_to_dict(v)\n",
    "        elif v.attrs.get('MATLAB_class') == b'char':\n",
    "            d[k] = u''.join(chr(c) for c in v)\n",
    "        elif hasattr(v, 'shape'):\n",
    "            d[k] = np.array(v)\n",
    "        else:\n",
    "            d[k] = v\n",
    "    return d\n",
    "\n",
    "with h5py.File(f'{MATLAB_SORTING_RESULTS_DIR}/rez.mat', 'r') as f:\n",
    "    matlab_rez = h5_to_dict(f['rez'])\n",
    "matlab_rez['ccb0'] =  matlab_rez['ccb']\n",
    "    \n",
    "python_rez = rez['intermediate']\n",
    "\n",
    "intermediate_results = {\n",
    "    'matlab': matlab_rez,\n",
    "    'python': python_rez,\n",
    "    'matlab - python': {\n",
    "        'ccbsort': matlab_rez['ccbsort'] - python_rez['ccbsort'],\n",
    "        'ccb0': matlab_rez['ccb0'] - python_rez['ccb0']\n",
    "    }\n",
    "}"
   ]
  },
  {
   "cell_type": "markdown",
   "metadata": {},
   "source": [
    "## Aligment at the start of the recording\n",
    "\n",
    "As 2020/06/29 this seems to be off by 1000 samples."
   ]
  },
  {
   "cell_type": "code",
   "execution_count": null,
   "metadata": {},
   "outputs": [],
   "source": [
    "from spikeextractors import BinDatRecordingExtractor\n",
    "f,axs = plt.subplots(2, 1, sharex=True, figsize=(10,12))\n",
    "\n",
    "matlab_proc_dat = BinDatRecordingExtractor(\n",
    "    intermediate_results['matlab']['ops']['fproc'],\n",
    "    sampling_frequency=intermediate_results['matlab']['ops']['fs'],\n",
    "    numchan=intermediate_results['matlab']['ops']['NchanTOT'],\n",
    "    dtype=np.int16\n",
    ")\n",
    "\n",
    "ax =axs[0]\n",
    "ax.plot(matlab_proc_dat.get_traces(start_frame=0, end_frame=4000).T);\n",
    "\n",
    "python_proc_dat = BinDatRecordingExtractor(\n",
    "    (rez['context_path'] / 'proc.dat'),\n",
    "    sampling_frequency=intermediate_results['matlab']['ops']['fs'],\n",
    "    numchan=intermediate_results['matlab']['ops']['NchanTOT'],\n",
    "    dtype=np.int16\n",
    ")\n",
    "ax =axs[1]\n",
    "ax.plot(range(1000, 4000), python_proc_dat.get_traces(start_frame=0, end_frame=3000).T);"
   ]
  },
  {
   "cell_type": "markdown",
   "metadata": {},
   "source": [
    "## Difference in Whitening Matrices"
   ]
  },
  {
   "cell_type": "code",
   "execution_count": null,
   "metadata": {},
   "outputs": [],
   "source": [
    "plt.title(\"Difference in Whitening Matrices\")\n",
    "plt.imshow(intermediate_results['python']['Wrot'] - intermediate_results['matlab']['Wrot'])\n",
    "plt.colorbar();"
   ]
  },
  {
   "cell_type": "markdown",
   "metadata": {},
   "source": [
    "## Difference in initial batch re-ordering"
   ]
  },
  {
   "cell_type": "code",
   "execution_count": null,
   "metadata": {},
   "outputs": [],
   "source": [
    "assert matlab_rez['ccb0'].shape == python_rez['ccb0'].shape"
   ]
  },
  {
   "cell_type": "code",
   "execution_count": null,
   "metadata": {},
   "outputs": [],
   "source": [
    "f, axs = plt.subplots(2, 3, figsize=(20,10))\n",
    "\n",
    "vmin, vmax = -np.max(intermediate_results['matlab']['ccbsort']), np.max(intermediate_results['matlab']['ccbsort'])\n",
    "\n",
    "for j,ccb in enumerate(['ccb0', 'ccbsort']):\n",
    "    for i, (name,res) in enumerate(intermediate_results.items()):\n",
    "        ax = axs[j,i]\n",
    "        im = ax.imshow(res[ccb], vmin=vmin, vmax=vmax)\n",
    "        ax.set_title(name)\n",
    "    axs[j,0].set_ylabel(ccb)\n",
    "    \n",
    "plt.colorbar(im)\n",
    "f.suptitle(\"Batch Dissimilarity Matrices\", size=16)"
   ]
  },
  {
   "cell_type": "markdown",
   "metadata": {},
   "source": [
    "The final order of the batches is, as a result, not the same."
   ]
  },
  {
   "cell_type": "code",
   "execution_count": null,
   "metadata": {},
   "outputs": [],
   "source": [
    "plt.plot(matlab_rez['iorig'][0])\n",
    "plt.plot(python_rez['iorig']);"
   ]
  },
  {
   "cell_type": "markdown",
   "metadata": {},
   "source": [
    "# Output comparison"
   ]
  },
  {
   "cell_type": "markdown",
   "metadata": {},
   "source": [
    "## Similarity matrix between the templates of the identified units"
   ]
  },
  {
   "cell_type": "code",
   "execution_count": null,
   "metadata": {},
   "outputs": [],
   "source": [
    "matlab_templates = [results['matlab'].templates[x,:,:].ravel() for x in range(results['matlab'].templates.shape[0])]\n",
    "python_templates = [results['python'].templates[x,:,:].ravel() for x in range(results['python'].templates.shape[0])]\n",
    "\n",
    "similarity_matrix = np.array([[np.dot(m, p) for p in python_templates] for m in matlab_templates])\n",
    "\n",
    "plt.figure(figsize=(13,7))\n",
    "plt.imshow(similarity_matrix, vmin=0, vmax=1)\n",
    "plt.xlabel('Python Units')\n",
    "plt.ylabel('MATLAB Units')\n",
    "\n",
    "plt.colorbar()"
   ]
  },
  {
   "cell_type": "code",
   "execution_count": null,
   "metadata": {},
   "outputs": [],
   "source": [
    "units = np.where(similarity_matrix > 0.7)\n",
    "\n",
    "for u in range(len(units[0])):\n",
    "    f, axs = plt.subplots(2, 2, figsize=(8,10), gridspec_kw={'height_ratios': [4,1]})\n",
    "    f.suptitle(f\"Unit pair {u+1}: {(units[0][u],units[1][u])}\", size=20)\n",
    "\n",
    "    for i, (name,res) in enumerate(results.items()):\n",
    "        templates = res.templates\n",
    "        unit = units[i][u]\n",
    "\n",
    "        for channel in range(templates.shape[2]):\n",
    "            axs[0, i].plot(templates[unit,:,channel].T + 0.1 * channel);\n",
    "\n",
    "        axs[0, i].set_title(name)\n",
    "\n",
    "    for i, (name,res) in enumerate(results.items()):\n",
    "        axs[1, i].vlines(res.spike_times[res.spike_clusters == units[i][0]], 0+i, 1+i)\n",
    "\n",
    "        axs[1, i].set_xlim(0, 100000)"
   ]
  },
  {
   "cell_type": "code",
   "execution_count": null,
   "metadata": {},
   "outputs": [],
   "source": [
    "for unit in range(82):\n",
    "    plt.plot(results['matlab'].templates[unit,:,0].T);"
   ]
  }
 ],
 "metadata": {
  "kernelspec": {
   "display_name": "Python 3",
   "language": "python",
   "name": "python3"
  },
  "language_info": {
   "codemirror_mode": {
    "name": "ipython",
    "version": 3
   },
   "file_extension": ".py",
   "mimetype": "text/x-python",
   "name": "python",
   "nbconvert_exporter": "python",
   "pygments_lexer": "ipython3",
   "version": "3.7.7"
  }
 },
 "nbformat": 4,
 "nbformat_minor": 4
}
